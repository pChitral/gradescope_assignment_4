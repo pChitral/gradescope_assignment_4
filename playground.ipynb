{
 "cells": [
  {
   "cell_type": "code",
   "execution_count": 16,
   "metadata": {},
   "outputs": [
    {
     "name": "stdout",
     "output_type": "stream",
     "text": [
      "<class 'int'>\n"
     ]
    }
   ],
   "source": [
    "maal = [\"list\"]\n",
    "z = 1\n",
    "print(type(z))\n",
    "if type(z) in maal:\n",
    "    print(\"hi\")"
   ]
  },
  {
   "cell_type": "code",
   "execution_count": 18,
   "metadata": {},
   "outputs": [
    {
     "name": "stdout",
     "output_type": "stream",
     "text": [
      "True\n"
     ]
    }
   ],
   "source": [
    "print(type(z)!= list or type(z) != tuple )"
   ]
  },
  {
   "cell_type": "code",
   "execution_count": 6,
   "metadata": {},
   "outputs": [
    {
     "name": "stdout",
     "output_type": "stream",
     "text": [
      "hi\n"
     ]
    }
   ],
   "source": [
    "a = [\"+\", \"-\"]\n",
    "if a[0] == \"+\":\n",
    "    print(\"hi\")"
   ]
  },
  {
   "cell_type": "code",
   "execution_count": 23,
   "metadata": {},
   "outputs": [
    {
     "data": {
      "text/plain": [
       "True"
      ]
     },
     "execution_count": 23,
     "metadata": {},
     "output_type": "execute_result"
    }
   ],
   "source": [
    "type(a) == list"
   ]
  },
  {
   "cell_type": "code",
   "execution_count": 3,
   "metadata": {},
   "outputs": [],
   "source": [
    "class ScoreList:\n",
    "    def __init__(self, scores1, scores2):\n",
    "        self.scores1 = scores1\n",
    "        self.scores2 = scores2\n",
    "\n",
    "    def average(self):\n",
    "        return sum(self.scores) / len(self.scores)\n",
    "    \n",
    "    def __repr__(self):\n",
    "        return f\"[{', '.join(map(str, self.scores1))}]  repr\" + f\"[{', '.join(map(str, self.scores2))}]  repr\"\n",
    "    \n",
    "    def __str__(self):\n",
    "        return f\" First List: [{', '.join(map(str, self.scores1))}] \" + f\" Second List: [{', '.join(map(str, self.scores2))}]\"\n",
    "    \n",
    "sc1 = ScoreList([1, 2, 3, 4], [5, 6, 7, 8])\n"
   ]
  },
  {
   "cell_type": "code",
   "execution_count": 4,
   "metadata": {},
   "outputs": [
    {
     "name": "stdout",
     "output_type": "stream",
     "text": [
      " First List: [1, 2, 3, 4]  Second List: [5, 6, 7, 8]\n"
     ]
    }
   ],
   "source": [
    "print(sc1)"
   ]
  },
  {
   "cell_type": "code",
   "execution_count": 20,
   "metadata": {},
   "outputs": [
    {
     "ename": "SyntaxError",
     "evalue": "invalid syntax (758166720.py, line 50)",
     "output_type": "error",
     "traceback": [
      "\u001b[0;36m  Input \u001b[0;32mIn [20]\u001b[0;36m\u001b[0m\n\u001b[0;31m    if self.index >= len(self.input1)\u001b[0m\n\u001b[0m                                     ^\u001b[0m\n\u001b[0;31mSyntaxError\u001b[0m\u001b[0;31m:\u001b[0m invalid syntax\n"
     ]
    }
   ],
   "source": [
    "class IteratorClass:\n",
    "    # Complete this class! It takes in three inputs when initializing.\n",
    "    # input#1 x -- is a sequence, either a list or a tuple. Raise a ValueError if it is not a list or a tuple\n",
    "    # input#2 y -- is a sequence, either a list or a tuple. Raise a ValueError if it is not a list or a tuple\n",
    "    # input#3 operator -- is a string that can either be 'add', 'sub', 'mul', 'div' -- If the specified operator\n",
    "    # is not one of these, raise a ValueError.\n",
    "\n",
    "    # Complete the class by writing functions that will turn it into an iterator class.\n",
    "    # https://www.programiz.com/python-programming/methods/built-in/iter\n",
    "    # The purpose of the class is to take two lists(x and y), apply the specified operator and return the output\n",
    "    # as an iterator, meaning you can do \"for ele in IteratorClass(x,y,'add')\"\n",
    "    # NOTE: For the / operator, round to two decimal places\n",
    "    # Raise ValueError when the length is not the same for both inputs\n",
    "    # Raise ValueError when the operator is not add, sub, mul, or div.\n",
    "\n",
    "    # BEGIN SOLUTION\n",
    "    def __init__(self, input_1, input_2, operator):\n",
    "\n",
    "        # Assigning attributes to the class\n",
    "        self.input_1 = input_1\n",
    "        self.input_2 = input_2\n",
    "        self.operator = str(operator)\n",
    "        self.index = 0\n",
    "\n",
    "        # Validation code for data types\n",
    "        valid_operators = [\"add\", \"sub\", \"div\", \"mul\"]\n",
    "        isValidList1 = True if (type(self.input_1) == list or type(\n",
    "            self.input_1) == tuple) else False\n",
    "        isValidList2 = True if (type(self.input_2) == list or type(\n",
    "            self.input_2) == tuple) else False\n",
    "        isValidOperator = True if (self.operator in valid_operators) else False\n",
    "\n",
    "        if (isValidList1 and isValidList2 and isValidOperator):\n",
    "            pass\n",
    "        else:\n",
    "            raise ValueError(\n",
    "                \"Inconsistent data types, please re-enter data in the valid data types\")\n",
    "\n",
    "        # Handling print() for the class\n",
    "\n",
    "        def __str__(self):\n",
    "            return f\" First List/Tuple: [{', '.join(map(str, self.input_1))}] \" + f\" Second List/Tuple: [{', '.join(map(str, self.input_2))}]\"\n",
    "\n",
    "        # Iter\n",
    "        def __iter__(self):\n",
    "            return self\n",
    "\n",
    "        def __next__(self):\n",
    "\n",
    "            if self.index >= len(self.input1):\n",
    "                raise StopIteration\n",
    "            # Addition (+)\n",
    "            if self.operator == \"add\":\n",
    "                index = self.index\n",
    "                self.index += 1\n",
    "                output = self.input1[index] + self.input1[index]\n",
    "                return output\n",
    "\n",
    "            # Subtraction (-)\n",
    "            if self.operator == \"sub\":\n",
    "                if self.operator == \"add\":\n",
    "                    index = self.index\n",
    "                    self.index += 1\n",
    "                    output = self.input1[index] - self.input1[index]\n",
    "                    return output\n",
    "\n",
    "            # Multiplication (*)\n",
    "            if self.operator == \"mul\":\n",
    "                if self.operator == \"add\":\n",
    "                    index = self.index\n",
    "                    self.index += 1\n",
    "                    output = self.input1[index] * self.input1[index]\n",
    "                    return output\n",
    "\n",
    "            # Division (/)\n",
    "            if self.operator == \"div\":\n",
    "                if self.operator == \"add\":\n",
    "                    index = self.index\n",
    "                    self.index += 1\n",
    "                    output = round(\n",
    "                            self.input1[self.value] / self.input1[self.value], 2)\n",
    "                    return output\n",
    "\n",
    "    # END SOLUTION\n",
    "\n",
    "                    "
   ]
  },
  {
   "cell_type": "code",
   "execution_count": 19,
   "metadata": {},
   "outputs": [
    {
     "ename": "TypeError",
     "evalue": "'IteratorClass' object is not iterable",
     "output_type": "error",
     "traceback": [
      "\u001b[0;31m---------------------------------------------------------------------------\u001b[0m",
      "\u001b[0;31mTypeError\u001b[0m                                 Traceback (most recent call last)",
      "\u001b[1;32m/Users/chitralpatil/Documents/Zia/Gradescope/assignment4/playground.ipynb Cell 8\u001b[0m in \u001b[0;36m<cell line: 1>\u001b[0;34m()\u001b[0m\n\u001b[0;32m----> <a href='vscode-notebook-cell:/Users/chitralpatil/Documents/Zia/Gradescope/assignment4/playground.ipynb#X10sZmlsZQ%3D%3D?line=0'>1</a>\u001b[0m \u001b[39mfor\u001b[39;00m ele \u001b[39min\u001b[39;00m IteratorClass([\u001b[39m1\u001b[39m,\u001b[39m2\u001b[39m],[\u001b[39m1\u001b[39m,\u001b[39m2\u001b[39m],\u001b[39m'\u001b[39m\u001b[39madd\u001b[39m\u001b[39m'\u001b[39m):\n\u001b[1;32m      <a href='vscode-notebook-cell:/Users/chitralpatil/Documents/Zia/Gradescope/assignment4/playground.ipynb#X10sZmlsZQ%3D%3D?line=1'>2</a>\u001b[0m     \u001b[39mprint\u001b[39m(ele)\n",
      "\u001b[0;31mTypeError\u001b[0m: 'IteratorClass' object is not iterable"
     ]
    }
   ],
   "source": [
    "for ele in IteratorClass([1,2],[1,2],'add'):\n",
    "    print(ele)"
   ]
  },
  {
   "cell_type": "code",
   "execution_count": 18,
   "metadata": {},
   "outputs": [],
   "source": [
    "class PrintNumber:\n",
    "    def __init__(self, list):\n",
    "        self.max = len(list) -2 \n",
    "\n",
    "# iter() method in a class\n",
    "    def __iter__(self):\n",
    "        self.num = 0\n",
    "        return self\n",
    "# next() method in a class \n",
    "    def __next__(self):\n",
    "        if(self.num >= self.max):\n",
    "            raise StopIteration\n",
    "        self.num += 1\n",
    "        return self.num\n",
    "\n",
    "print_num = PrintNumber([1,2,3])"
   ]
  },
  {
   "cell_type": "code",
   "execution_count": 15,
   "metadata": {},
   "outputs": [
    {
     "data": {
      "text/plain": [
       "1"
      ]
     },
     "execution_count": 15,
     "metadata": {},
     "output_type": "execute_result"
    }
   ],
   "source": [
    "print_num.max"
   ]
  },
  {
   "cell_type": "code",
   "execution_count": 22,
   "metadata": {},
   "outputs": [],
   "source": [
    "class Sentence:\n",
    "\n",
    "    def __init__(self, sentence):\n",
    "        self.sentence = sentence\n",
    "        self.index = 0\n",
    "        self.words = self.sentence.split()\n",
    "\n",
    "    def __iter__(self):\n",
    "        return self\n",
    "\n",
    "    def __next__(self):\n",
    "        if self.index >= len(self.words):\n",
    "            raise StopIteration\n",
    "        index = self.index\n",
    "        self.index += 1\n",
    "        return self.words[index]\n",
    "\n",
    "\n",
    "\n",
    "\n",
    "\n"
   ]
  },
  {
   "cell_type": "code",
   "execution_count": 23,
   "metadata": {},
   "outputs": [
    {
     "name": "stdout",
     "output_type": "stream",
     "text": [
      "This\n",
      "is\n",
      "Op\n"
     ]
    }
   ],
   "source": [
    "for ele in Sentence(\"This is Op\"):\n",
    "    print(ele)"
   ]
  },
  {
   "cell_type": "code",
   "execution_count": 27,
   "metadata": {},
   "outputs": [],
   "source": [
    "class IteratorClass():\n",
    "    def __init__(self,list1, list2, operator):\n",
    "        self.input_1 = list1\n",
    "        self.input_2 = list2\n",
    "        self.operator = operator\n",
    "        self.index = 0\n",
    "\n",
    "        # Validation code for data types\n",
    "        valid_operators = [\"add\", \"sub\", \"div\", \"mul\"]\n",
    "        isValidList1 = True if (type(self.input_1) == list or type(\n",
    "            self.input_1) == tuple) else False\n",
    "        isValidList2 = True if (type(self.input_2) == list or type(\n",
    "            self.input_2) == tuple) else False\n",
    "        isValidOperator = True if (self.operator in valid_operators) else False\n",
    "\n",
    "        if (isValidList1 and isValidList2 and isValidOperator):\n",
    "            pass\n",
    "        else:\n",
    "            raise ValueError(\n",
    "                \"Inconsistent data types, please re-enter data in the valid data types\")\n",
    "        \n",
    "        # Length validation \n",
    "        if len(self.input_1) != len(self.input_2): raise ValueError(\n",
    "                \"Inconsistent data types, please re-enter data in the valid data types\")\n",
    "    \n",
    "    \n",
    "    def __iter__(self):\n",
    "        return self\n",
    "    def __next__(self):\n",
    "        if self.index >= len(self.input_1):\n",
    "            raise StopIteration\n",
    "        if self.operator == \"add\":\n",
    "            index = self.index\n",
    "            self.index+=1\n",
    "            return self.input_1[index] + self.input_2[index]\n",
    "        if self.operator == \"sub\":\n",
    "            index = self.index\n",
    "            self.index+=1\n",
    "            return self.input_1[index] - self.input_2[index]\n",
    "        if self.operator == \"mul\":\n",
    "            index = self.index\n",
    "            self.index+=1\n",
    "            return self.input_1[index] * self.input_2[index]\n",
    "        if self.operator == \"div\":\n",
    "            index = self.index\n",
    "            self.index+=1\n",
    "            return round(self.input_1[index] / self.input_2[index],2)\n",
    "    def __iter__(self):\n",
    "        return self\n",
    "    \n",
    "    def __next__(self):\n",
    "\n",
    "        # Exit of our loop\n",
    "        if self.index >= len(self.input_1):\n",
    "            raise StopIteration\n",
    "\n",
    "        # Addition (+)\n",
    "        if self.operator == \"add\":\n",
    "            index = self.index\n",
    "            self.index += 1\n",
    "            return self.input_1[index] + self.input_2[index]\n",
    "    \n",
    "    \n",
    "        "
   ]
  },
  {
   "cell_type": "code",
   "execution_count": 28,
   "metadata": {},
   "outputs": [
    {
     "name": "stdout",
     "output_type": "stream",
     "text": [
      "1.0\n",
      "1.0\n",
      "2.0\n"
     ]
    }
   ],
   "source": [
    "for ele in IteratorClass([1,2,6], [1,2,3], \"div\"):\n",
    "    print(ele)"
   ]
  },
  {
   "cell_type": "code",
   "execution_count": 39,
   "metadata": {},
   "outputs": [],
   "source": [
    "class ListV2:\n",
    "    # Complete this class to fulfill the following requirement\n",
    "    # 1) The class only takes one input argument which is a list or a tuple;\n",
    "    #    Raise ValueError if the input is not a list or tuple\n",
    "    # 2) The class overload loads +,-,*,/ and returns a ListV2 object as the result\n",
    "    # 3) The class can handle +,-,*,/ for both list and int/float, meaning the thing to the right of the operator\n",
    "    #    can be a sequence or a number;\n",
    "    # 4) The class is an iterator\n",
    "    # HINT: Study the assert statements in the test file to understand how this class is being used and reverse engineer it!\n",
    "    # NOTE: For the / operator, round to two decimal places\n",
    "\n",
    "    # BEGIN SOLUTION\n",
    "    def __init__(self, iterable):\n",
    "        self.iterable = iterable\n",
    "\n",
    "        # Validating data types of the input\n",
    "        allowed_datatypes = [list, tuple]\n",
    "        if type(self.iterable) not in allowed_datatypes: raise ValueError(\n",
    "                \"Inconsistent data type! Please re-enter data which either has the data type list or tuple.\")\n",
    "        \n",
    "        # Handing + operator overloading\n",
    "        def __add__ (self, other):\n",
    "            if type(other) == list:\n",
    "                temp_list = []\n",
    "                for i in range(len(self.iterable)):\n",
    "                    temp_list[i] = self.iterable[i] + other[i] \n",
    "                return (ListV2(temp_list))\n",
    "\n",
    "            if type(other) == float or type(other) == int:\n",
    "                temp_list = []\n",
    "                for i in range(len(self.iterable)):\n",
    "                    temp_list[i] = self.iterable[i] + other\n",
    "                return (ListV2(temp_list))\n",
    "        \n",
    "\n",
    "\n",
    "        \n",
    "    # END SOLUTION"
   ]
  },
  {
   "cell_type": "code",
   "execution_count": 40,
   "metadata": {},
   "outputs": [
    {
     "ename": "ValueError",
     "evalue": "Inconsistent data type! Please re-enter data which either has the data type list or tuple.",
     "output_type": "error",
     "traceback": [
      "\u001b[0;31m---------------------------------------------------------------------------\u001b[0m",
      "\u001b[0;31mValueError\u001b[0m                                Traceback (most recent call last)",
      "\u001b[1;32m/Users/chitralpatil/Documents/Zia/Gradescope/assignment4/playground.ipynb Cell 16\u001b[0m in \u001b[0;36m<cell line: 1>\u001b[0;34m()\u001b[0m\n\u001b[0;32m----> <a href='vscode-notebook-cell:/Users/chitralpatil/Documents/Zia/Gradescope/assignment4/playground.ipynb#X21sZmlsZQ%3D%3D?line=0'>1</a>\u001b[0m ListV2(\u001b[39m2\u001b[39;49m)\n",
      "\u001b[1;32m/Users/chitralpatil/Documents/Zia/Gradescope/assignment4/playground.ipynb Cell 16\u001b[0m in \u001b[0;36mListV2.__init__\u001b[0;34m(self, iterable)\u001b[0m\n\u001b[1;32m     <a href='vscode-notebook-cell:/Users/chitralpatil/Documents/Zia/Gradescope/assignment4/playground.ipynb#X21sZmlsZQ%3D%3D?line=13'>14</a>\u001b[0m \u001b[39mself\u001b[39m\u001b[39m.\u001b[39miterable \u001b[39m=\u001b[39m iterable\n\u001b[1;32m     <a href='vscode-notebook-cell:/Users/chitralpatil/Documents/Zia/Gradescope/assignment4/playground.ipynb#X21sZmlsZQ%3D%3D?line=14'>15</a>\u001b[0m allowed_datatypes \u001b[39m=\u001b[39m [\u001b[39mlist\u001b[39m, \u001b[39mtuple\u001b[39m]\n\u001b[0;32m---> <a href='vscode-notebook-cell:/Users/chitralpatil/Documents/Zia/Gradescope/assignment4/playground.ipynb#X21sZmlsZQ%3D%3D?line=15'>16</a>\u001b[0m \u001b[39mif\u001b[39;00m \u001b[39mtype\u001b[39m(\u001b[39mself\u001b[39m\u001b[39m.\u001b[39miterable) \u001b[39mnot\u001b[39;00m \u001b[39min\u001b[39;00m allowed_datatypes: \u001b[39mraise\u001b[39;00m \u001b[39mValueError\u001b[39;00m(\n\u001b[1;32m     <a href='vscode-notebook-cell:/Users/chitralpatil/Documents/Zia/Gradescope/assignment4/playground.ipynb#X21sZmlsZQ%3D%3D?line=16'>17</a>\u001b[0m         \u001b[39m\"\u001b[39m\u001b[39mInconsistent data type! Please re-enter data which either has the data type list or tuple.\u001b[39m\u001b[39m\"\u001b[39m)\n",
      "\u001b[0;31mValueError\u001b[0m: Inconsistent data type! Please re-enter data which either has the data type list or tuple."
     ]
    }
   ],
   "source": [
    "class ListV2:\n",
    "    # Complete this class to fulfill the following requirement\n",
    "    # 1) The class only takes one input argument which is a list or a tuple;\n",
    "    #    Raise ValueError if the input is not a list or tuple\n",
    "    # 2) The class overload loads +,-,*,/ and returns a ListV2 object as the result\n",
    "    # 3) The class can handle +,-,*,/ for both list and int/float, meaning the thing to the right of the operator\n",
    "    #    can be a sequence or a number;\n",
    "    # 4) The class is an iterator\n",
    "    # HINT: Study the assert statements in the test file to understand how this class is being used and reverse engineer it!\n",
    "    # NOTE: For the / operator, round to two decimal places\n",
    "\n",
    "    # BEGIN SOLUTION\n",
    "    def __init__(self, iterable):\n",
    "        self.iterable = iterable\n",
    "        self.index = 0\n",
    "\n",
    "        # Validating data types of the input\n",
    "        allowed_datatypes = [list, tuple]\n",
    "        if type(self.iterable) not in allowed_datatypes:\n",
    "            raise ValueError(\n",
    "                \"Inconsistent data type! Please re-enter data which either has the data type list or tuple.\")\n",
    "\n",
    "        # Handing + operator overloading\n",
    "        def __add__(self, other):\n",
    "            if type(other) == list or type(other) == tuple:\n",
    "                for i in range(len(self.iterable)):\n",
    "                    temp_list[i] = self.iterable[i] + other[i]\n",
    "                    return (ListV2(temp_list))\n",
    "\n",
    "            if type(other) == ListV2:\n",
    "                for i in range(len(self.iterable)):\n",
    "                    temp_list[i] = self.iterable[i] + other.iterable[i]\n",
    "                    return (ListV2(temp_list))\n",
    "\n",
    "            if type(other) == float or type(other) == int:\n",
    "                temp_list = []\n",
    "                for i in range(len(self.iterable)):\n",
    "                    temp_list[i] = self.iterable[i] + other\n",
    "                return (ListV2(temp_list))\n",
    "\n",
    "        # Handing - operator overloading\n",
    "        def __sub__(self, other):\n",
    "            if type(other) == list or type(other) == tuple:\n",
    "                for i in range(len(self.iterable)):\n",
    "                    temp_list[i] = self.iterable[i] - other[i]\n",
    "                    return (ListV2(temp_list))\n",
    "\n",
    "            if type(other) == ListV2:\n",
    "                for i in range(len(self.iterable)):\n",
    "                    temp_list[i] = self.iterable[i] - other.iterable[i]\n",
    "                    return (ListV2(temp_list))\n",
    "\n",
    "            if type(other) == float or type(other) == int:\n",
    "                temp_list = []\n",
    "                for i in range(len(self.iterable)):\n",
    "                    temp_list[i] = self.iterable[i] - other\n",
    "                return (ListV2(temp_list))\n",
    "\n",
    "        # Handing * operator overloading\n",
    "        def __mul__(self, other):\n",
    "            if type(other) == list or type(other) == tuple:\n",
    "                for i in range(len(self.iterable)):\n",
    "                    temp_list[i] = self.iterable[i] * other[i]\n",
    "                    return (ListV2(temp_list))\n",
    "\n",
    "            if type(other) == ListV2:\n",
    "                for i in range(len(self.iterable)):\n",
    "                    temp_list[i] = self.iterable[i] * other.iterable[i]\n",
    "                    return (ListV2(temp_list))\n",
    "\n",
    "            if type(other) == float or type(other) == int:\n",
    "                temp_list = []\n",
    "                for i in range(len(self.iterable)):\n",
    "                    temp_list[i] = self.iterable[i] * other\n",
    "                return (ListV2(temp_list))\n",
    "\n",
    "        # Handing / operator overloading\n",
    "        def __truediv__(self, other):\n",
    "            if type(other) == list or type(other) == tuple:\n",
    "                for i in range(len(self.iterable)):\n",
    "                    temp_list[i] = round(self.iterable[i] / other[i], 2)\n",
    "                    return (ListV2(temp_list))\n",
    "\n",
    "            if type(other) == ListV2:\n",
    "                for i in range(len(self.iterable)):\n",
    "                    temp_list[i] =round(self.iterable[i] / other[i], 2)\n",
    "                    return (ListV2(temp_list))\n",
    "\n",
    "            if type(other) == float or type(other) == int:\n",
    "                temp_list = []\n",
    "                for i in range(len(self.iterable)):\n",
    "                    temp_list[i] = round(self.iterable[i] / other[i], 2)\n",
    "                return (ListV2(temp_list))\n",
    "\n",
    "        def __iter__(self):\n",
    "            return self\n",
    "\n",
    "        def __next__(self):\n",
    "            if self.index >= len(self.iterable):\n",
    "                raise StopIteration\n",
    "            index = self.index\n",
    "            self.index += 1\n",
    "            return 1\n",
    "\n",
    "    # END SOLUTION\n"
   ]
  },
  {
   "cell_type": "code",
   "execution_count": null,
   "metadata": {},
   "outputs": [],
   "source": []
  }
 ],
 "metadata": {
  "kernelspec": {
   "display_name": "Python 3.9.12 ('base')",
   "language": "python",
   "name": "python3"
  },
  "language_info": {
   "codemirror_mode": {
    "name": "ipython",
    "version": 3
   },
   "file_extension": ".py",
   "mimetype": "text/x-python",
   "name": "python",
   "nbconvert_exporter": "python",
   "pygments_lexer": "ipython3",
   "version": "3.9.12"
  },
  "orig_nbformat": 4,
  "vscode": {
   "interpreter": {
    "hash": "cd78fef2128015050713e82ca51c6520b11aee7c9ee8df750520bbbc7384cbaa"
   }
  }
 },
 "nbformat": 4,
 "nbformat_minor": 2
}
