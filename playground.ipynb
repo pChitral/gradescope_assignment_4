{
 "cells": [
  {
   "cell_type": "code",
   "execution_count": 16,
   "metadata": {},
   "outputs": [
    {
     "name": "stdout",
     "output_type": "stream",
     "text": [
      "<class 'int'>\n"
     ]
    }
   ],
   "source": [
    "maal = [\"list\"]\n",
    "z = 1\n",
    "print(type(z))\n",
    "if type(z) in maal:\n",
    "    print(\"hi\")"
   ]
  },
  {
   "cell_type": "code",
   "execution_count": 18,
   "metadata": {},
   "outputs": [
    {
     "name": "stdout",
     "output_type": "stream",
     "text": [
      "True\n"
     ]
    }
   ],
   "source": [
    "print(type(z)!= list or type(z) != tuple )"
   ]
  },
  {
   "cell_type": "code",
   "execution_count": 6,
   "metadata": {},
   "outputs": [
    {
     "name": "stdout",
     "output_type": "stream",
     "text": [
      "hi\n"
     ]
    }
   ],
   "source": [
    "a = [\"+\", \"-\"]\n",
    "if a[0] == \"+\":\n",
    "    print(\"hi\")"
   ]
  },
  {
   "cell_type": "code",
   "execution_count": 23,
   "metadata": {},
   "outputs": [
    {
     "data": {
      "text/plain": [
       "True"
      ]
     },
     "execution_count": 23,
     "metadata": {},
     "output_type": "execute_result"
    }
   ],
   "source": [
    "type(a) == list"
   ]
  },
  {
   "cell_type": "code",
   "execution_count": 3,
   "metadata": {},
   "outputs": [],
   "source": [
    "class ScoreList:\n",
    "    def __init__(self, scores1, scores2):\n",
    "        self.scores1 = scores1\n",
    "        self.scores2 = scores2\n",
    "\n",
    "    def average(self):\n",
    "        return sum(self.scores) / len(self.scores)\n",
    "    \n",
    "    def __repr__(self):\n",
    "        return f\"[{', '.join(map(str, self.scores1))}]  repr\" + f\"[{', '.join(map(str, self.scores2))}]  repr\"\n",
    "    \n",
    "    def __str__(self):\n",
    "        return f\" First List: [{', '.join(map(str, self.scores1))}] \" + f\" Second List: [{', '.join(map(str, self.scores2))}]\"\n",
    "    \n",
    "sc1 = ScoreList([1, 2, 3, 4], [5, 6, 7, 8])\n"
   ]
  },
  {
   "cell_type": "code",
   "execution_count": 4,
   "metadata": {},
   "outputs": [
    {
     "name": "stdout",
     "output_type": "stream",
     "text": [
      " First List: [1, 2, 3, 4]  Second List: [5, 6, 7, 8]\n"
     ]
    }
   ],
   "source": [
    "print(sc1)"
   ]
  },
  {
   "cell_type": "code",
   "execution_count": 20,
   "metadata": {},
   "outputs": [
    {
     "ename": "SyntaxError",
     "evalue": "invalid syntax (758166720.py, line 50)",
     "output_type": "error",
     "traceback": [
      "\u001b[0;36m  Input \u001b[0;32mIn [20]\u001b[0;36m\u001b[0m\n\u001b[0;31m    if self.index >= len(self.input1)\u001b[0m\n\u001b[0m                                     ^\u001b[0m\n\u001b[0;31mSyntaxError\u001b[0m\u001b[0;31m:\u001b[0m invalid syntax\n"
     ]
    }
   ],
   "source": [
    "class IteratorClass:\n",
    "    # Complete this class! It takes in three inputs when initializing.\n",
    "    # input#1 x -- is a sequence, either a list or a tuple. Raise a ValueError if it is not a list or a tuple\n",
    "    # input#2 y -- is a sequence, either a list or a tuple. Raise a ValueError if it is not a list or a tuple\n",
    "    # input#3 operator -- is a string that can either be 'add', 'sub', 'mul', 'div' -- If the specified operator\n",
    "    # is not one of these, raise a ValueError.\n",
    "\n",
    "    # Complete the class by writing functions that will turn it into an iterator class.\n",
    "    # https://www.programiz.com/python-programming/methods/built-in/iter\n",
    "    # The purpose of the class is to take two lists(x and y), apply the specified operator and return the output\n",
    "    # as an iterator, meaning you can do \"for ele in IteratorClass(x,y,'add')\"\n",
    "    # NOTE: For the / operator, round to two decimal places\n",
    "    # Raise ValueError when the length is not the same for both inputs\n",
    "    # Raise ValueError when the operator is not add, sub, mul, or div.\n",
    "\n",
    "    # BEGIN SOLUTION\n",
    "    def __init__(self, input_1, input_2, operator):\n",
    "\n",
    "        # Assigning attributes to the class\n",
    "        self.input_1 = input_1\n",
    "        self.input_2 = input_2\n",
    "        self.operator = str(operator)\n",
    "        self.index = 0\n",
    "\n",
    "        # Validation code for data types\n",
    "        valid_operators = [\"add\", \"sub\", \"div\", \"mul\"]\n",
    "        isValidList1 = True if (type(self.input_1) == list or type(\n",
    "            self.input_1) == tuple) else False\n",
    "        isValidList2 = True if (type(self.input_2) == list or type(\n",
    "            self.input_2) == tuple) else False\n",
    "        isValidOperator = True if (self.operator in valid_operators) else False\n",
    "\n",
    "        if (isValidList1 and isValidList2 and isValidOperator):\n",
    "            pass\n",
    "        else:\n",
    "            raise ValueError(\n",
    "                \"Inconsistent data types, please re-enter data in the valid data types\")\n",
    "\n",
    "        # Handling print() for the class\n",
    "\n",
    "        def __str__(self):\n",
    "            return f\" First List/Tuple: [{', '.join(map(str, self.input_1))}] \" + f\" Second List/Tuple: [{', '.join(map(str, self.input_2))}]\"\n",
    "\n",
    "        # Iter\n",
    "        def __iter__(self):\n",
    "            return self\n",
    "\n",
    "        def __next__(self):\n",
    "\n",
    "            if self.index >= len(self.input1):\n",
    "                raise StopIteration\n",
    "            # Addition (+)\n",
    "            if self.operator == \"add\":\n",
    "                index = self.index\n",
    "                self.index += 1\n",
    "                output = self.input1[index] + self.input1[index]\n",
    "                return output\n",
    "\n",
    "            # Subtraction (-)\n",
    "            if self.operator == \"sub\":\n",
    "                if self.operator == \"add\":\n",
    "                    index = self.index\n",
    "                    self.index += 1\n",
    "                    output = self.input1[index] - self.input1[index]\n",
    "                    return output\n",
    "\n",
    "            # Multiplication (*)\n",
    "            if self.operator == \"mul\":\n",
    "                if self.operator == \"add\":\n",
    "                    index = self.index\n",
    "                    self.index += 1\n",
    "                    output = self.input1[index] * self.input1[index]\n",
    "                    return output\n",
    "\n",
    "            # Division (/)\n",
    "            if self.operator == \"div\":\n",
    "                if self.operator == \"add\":\n",
    "                    index = self.index\n",
    "                    self.index += 1\n",
    "                    output = round(\n",
    "                            self.input1[self.value] / self.input1[self.value], 2)\n",
    "                    return output\n",
    "\n",
    "    # END SOLUTION\n",
    "\n",
    "                    "
   ]
  },
  {
   "cell_type": "code",
   "execution_count": 19,
   "metadata": {},
   "outputs": [
    {
     "ename": "TypeError",
     "evalue": "'IteratorClass' object is not iterable",
     "output_type": "error",
     "traceback": [
      "\u001b[0;31m---------------------------------------------------------------------------\u001b[0m",
      "\u001b[0;31mTypeError\u001b[0m                                 Traceback (most recent call last)",
      "\u001b[1;32m/Users/chitralpatil/Documents/Zia/Gradescope/assignment4/playground.ipynb Cell 8\u001b[0m in \u001b[0;36m<cell line: 1>\u001b[0;34m()\u001b[0m\n\u001b[0;32m----> <a href='vscode-notebook-cell:/Users/chitralpatil/Documents/Zia/Gradescope/assignment4/playground.ipynb#X10sZmlsZQ%3D%3D?line=0'>1</a>\u001b[0m \u001b[39mfor\u001b[39;00m ele \u001b[39min\u001b[39;00m IteratorClass([\u001b[39m1\u001b[39m,\u001b[39m2\u001b[39m],[\u001b[39m1\u001b[39m,\u001b[39m2\u001b[39m],\u001b[39m'\u001b[39m\u001b[39madd\u001b[39m\u001b[39m'\u001b[39m):\n\u001b[1;32m      <a href='vscode-notebook-cell:/Users/chitralpatil/Documents/Zia/Gradescope/assignment4/playground.ipynb#X10sZmlsZQ%3D%3D?line=1'>2</a>\u001b[0m     \u001b[39mprint\u001b[39m(ele)\n",
      "\u001b[0;31mTypeError\u001b[0m: 'IteratorClass' object is not iterable"
     ]
    }
   ],
   "source": [
    "for ele in IteratorClass([1,2],[1,2],'add'):\n",
    "    print(ele)"
   ]
  },
  {
   "cell_type": "code",
   "execution_count": 18,
   "metadata": {},
   "outputs": [],
   "source": [
    "class PrintNumber:\n",
    "    def __init__(self, list):\n",
    "        self.max = len(list) -2 \n",
    "\n",
    "# iter() method in a class\n",
    "    def __iter__(self):\n",
    "        self.num = 0\n",
    "        return self\n",
    "# next() method in a class \n",
    "    def __next__(self):\n",
    "        if(self.num >= self.max):\n",
    "            raise StopIteration\n",
    "        self.num += 1\n",
    "        return self.num\n",
    "\n",
    "print_num = PrintNumber([1,2,3])"
   ]
  },
  {
   "cell_type": "code",
   "execution_count": 15,
   "metadata": {},
   "outputs": [
    {
     "data": {
      "text/plain": [
       "1"
      ]
     },
     "execution_count": 15,
     "metadata": {},
     "output_type": "execute_result"
    }
   ],
   "source": [
    "print_num.max"
   ]
  },
  {
   "cell_type": "code",
   "execution_count": 22,
   "metadata": {},
   "outputs": [],
   "source": [
    "class Sentence:\n",
    "\n",
    "    def __init__(self, sentence):\n",
    "        self.sentence = sentence\n",
    "        self.index = 0\n",
    "        self.words = self.sentence.split()\n",
    "\n",
    "    def __iter__(self):\n",
    "        return self\n",
    "\n",
    "    def __next__(self):\n",
    "        if self.index >= len(self.words):\n",
    "            raise StopIteration\n",
    "        index = self.index\n",
    "        self.index += 1\n",
    "        return self.words[index]\n",
    "\n",
    "\n",
    "\n",
    "\n",
    "\n"
   ]
  },
  {
   "cell_type": "code",
   "execution_count": 23,
   "metadata": {},
   "outputs": [
    {
     "name": "stdout",
     "output_type": "stream",
     "text": [
      "This\n",
      "is\n",
      "Op\n"
     ]
    }
   ],
   "source": [
    "for ele in Sentence(\"This is Op\"):\n",
    "    print(ele)"
   ]
  },
  {
   "cell_type": "code",
   "execution_count": 27,
   "metadata": {},
   "outputs": [],
   "source": [
    "class IteratorClass():\n",
    "    def __init__(self,list1, list2, operator):\n",
    "        self.input_1 = list1\n",
    "        self.input_2 = list2\n",
    "        self.operator = operator\n",
    "        self.index = 0\n",
    "\n",
    "        # Validation code for data types\n",
    "        valid_operators = [\"add\", \"sub\", \"div\", \"mul\"]\n",
    "        isValidList1 = True if (type(self.input_1) == list or type(\n",
    "            self.input_1) == tuple) else False\n",
    "        isValidList2 = True if (type(self.input_2) == list or type(\n",
    "            self.input_2) == tuple) else False\n",
    "        isValidOperator = True if (self.operator in valid_operators) else False\n",
    "\n",
    "        if (isValidList1 and isValidList2 and isValidOperator):\n",
    "            pass\n",
    "        else:\n",
    "            raise ValueError(\n",
    "                \"Inconsistent data types, please re-enter data in the valid data types\")\n",
    "        \n",
    "        # Length validation \n",
    "        if len(self.input_1) != len(self.input_2): raise ValueError(\n",
    "                \"Inconsistent data types, please re-enter data in the valid data types\")\n",
    "    \n",
    "    \n",
    "    def __iter__(self):\n",
    "        return self\n",
    "    def __next__(self):\n",
    "        if self.index >= len(self.input_1):\n",
    "            raise StopIteration\n",
    "        if self.operator == \"add\":\n",
    "            index = self.index\n",
    "            self.index+=1\n",
    "            return self.input_1[index] + self.input_2[index]\n",
    "        if self.operator == \"sub\":\n",
    "            index = self.index\n",
    "            self.index+=1\n",
    "            return self.input_1[index] - self.input_2[index]\n",
    "        if self.operator == \"mul\":\n",
    "            index = self.index\n",
    "            self.index+=1\n",
    "            return self.input_1[index] * self.input_2[index]\n",
    "        if self.operator == \"div\":\n",
    "            index = self.index\n",
    "            self.index+=1\n",
    "            return round(self.input_1[index] / self.input_2[index],2)\n",
    "    \n",
    "    \n",
    "        "
   ]
  },
  {
   "cell_type": "code",
   "execution_count": 28,
   "metadata": {},
   "outputs": [
    {
     "name": "stdout",
     "output_type": "stream",
     "text": [
      "1.0\n",
      "1.0\n",
      "2.0\n"
     ]
    }
   ],
   "source": [
    "for ele in IteratorClass([1,2,6], [1,2,3], \"div\"):\n",
    "    print(ele)"
   ]
  },
  {
   "cell_type": "code",
   "execution_count": null,
   "metadata": {},
   "outputs": [],
   "source": []
  }
 ],
 "metadata": {
  "kernelspec": {
   "display_name": "Python 3.9.12 ('base')",
   "language": "python",
   "name": "python3"
  },
  "language_info": {
   "codemirror_mode": {
    "name": "ipython",
    "version": 3
   },
   "file_extension": ".py",
   "mimetype": "text/x-python",
   "name": "python",
   "nbconvert_exporter": "python",
   "pygments_lexer": "ipython3",
   "version": "3.9.12"
  },
  "orig_nbformat": 4,
  "vscode": {
   "interpreter": {
    "hash": "cd78fef2128015050713e82ca51c6520b11aee7c9ee8df750520bbbc7384cbaa"
   }
  }
 },
 "nbformat": 4,
 "nbformat_minor": 2
}
